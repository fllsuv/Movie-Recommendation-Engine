{
 "cells": [
  {
   "cell_type": "markdown",
   "metadata": {},
   "source": [
    "# Movie Recommendation Engine-Su, Chun Wen- Model 1: is using Collaborative Filtering  from users' ratings"
   ]
  },
  {
   "cell_type": "markdown",
   "metadata": {},
   "source": [
    "## Step 1: Import packages and data files (csv files from MovieLens.com)"
   ]
  },
  {
   "cell_type": "code",
   "execution_count": 1,
   "metadata": {},
   "outputs": [],
   "source": [
    "import pandas as pd\n",
    "import numpy as np\n",
    "import os\n",
    "import requests\n",
    "import json\n",
    "from sklearn.metrics import mean_squared_error\n"
   ]
  },
  {
   "cell_type": "code",
   "execution_count": 2,
   "metadata": {},
   "outputs": [],
   "source": [
    "df = pd.read_csv('ratings.csv', sep=',')\n",
    "df_id = pd.read_csv('links.csv', sep=',')\n",
    "df = pd.merge(df, df_id, on=['movieId'])\n",
    "\n",
    "rating_matrix = np.zeros((df.userId.unique().shape[0], max(df.movieId)))\n",
    "for row in df.itertuples():\n",
    "    rating_matrix[row[1]-1, row[2]-1] = row[3]\n",
    "rating_matrix = rating_matrix[:,:9000]"
   ]
  },
  {
   "cell_type": "code",
   "execution_count": 3,
   "metadata": {},
   "outputs": [
    {
     "name": "stdout",
     "output_type": "stream",
     "text": [
      "[[0. 0. 0. ... 0. 0. 0.]\n",
      " [0. 0. 0. ... 0. 0. 0.]\n",
      " [0. 0. 0. ... 0. 0. 0.]\n",
      " ...\n",
      " [0. 0. 0. ... 0. 0. 0.]\n",
      " [4. 0. 0. ... 0. 0. 0.]\n",
      " [5. 0. 0. ... 0. 0. 0.]]\n"
     ]
    }
   ],
   "source": [
    "print(rating_matrix)"
   ]
  },
  {
   "cell_type": "code",
   "execution_count": 4,
   "metadata": {},
   "outputs": [
    {
     "name": "stdout",
     "output_type": "stream",
     "text": [
      "        userId  movieId  rating   timestamp   imdbId    tmdbId\n",
      "0            1       31     2.5  1260759144   112792    9909.0\n",
      "1            7       31     3.0   851868750   112792    9909.0\n",
      "2           31       31     4.0  1273541953   112792    9909.0\n",
      "3           32       31     4.0   834828440   112792    9909.0\n",
      "4           36       31     3.0   847057202   112792    9909.0\n",
      "5           39       31     3.0   832525157   112792    9909.0\n",
      "6           73       31     3.5  1255591860   112792    9909.0\n",
      "7           88       31     3.0  1239755559   112792    9909.0\n",
      "8           96       31     2.5  1223256331   112792    9909.0\n",
      "9          110       31     4.0   840100695   112792    9909.0\n",
      "10         111       31     3.5  1097429230   112792    9909.0\n",
      "11         150       31     2.5  1130905954   112792    9909.0\n",
      "12         161       31     3.0   837629820   112792    9909.0\n",
      "13         165       31     3.5  1111981801   112792    9909.0\n",
      "14         186       31     3.0  1276205768   112792    9909.0\n",
      "15         242       31     4.0   956686556   112792    9909.0\n",
      "16         254       31     3.0   845157538   112792    9909.0\n",
      "17         288       31     3.0   845862722   112792    9909.0\n",
      "18         310       31     1.5  1414188058   112792    9909.0\n",
      "19         311       31     3.0   898007906   112792    9909.0\n",
      "20         325       31     4.5  1356316520   112792    9909.0\n",
      "21         338       31     3.0   841656923   112792    9909.0\n",
      "22         341       31     4.5  1240055463   112792    9909.0\n",
      "23         386       31     2.0  1047028867   112792    9909.0\n",
      "24         394       31     2.0  1297524887   112792    9909.0\n",
      "25         452       31     2.5  1077114665   112792    9909.0\n",
      "26         457       31     1.5  1471385561   112792    9909.0\n",
      "27         461       31     2.0  1091959143   112792    9909.0\n",
      "28         468       31     1.5  1296193889   112792    9909.0\n",
      "29         485       31     4.0  1337748425   112792    9909.0\n",
      "...        ...      ...     ...         ...      ...       ...\n",
      "99974      652   141124     5.0  1440273477   396587   37091.0\n",
      "99975      652   142068     5.0  1442690431  2866824  294086.0\n",
      "99976      652   142240     5.0  1442691006  1830792   81704.0\n",
      "99977      652   146443     3.0  1451790739  1408972   44282.0\n",
      "99978      652   146501     2.5  1449533204  2474310  254005.0\n",
      "99979      652   146604     3.0  1449533506  3282858  306952.0\n",
      "99980      652   147037     5.0  1447808622   367097   92326.0\n",
      "99981      653     2103     3.0   948161066   111359   41841.0\n",
      "99982      654     8504     4.5  1145391310   115738   31146.0\n",
      "99983      654    26819     4.0  1145391359   106950   12088.0\n",
      "99984      654    42009     3.0  1145391400   452598    9641.0\n",
      "99985      655   143859     3.0  1470075909   475290  270487.0\n",
      "99986      655   158314     4.5  1470071021  1054478  108176.0\n",
      "99987      656     1692     5.0   986242496   112318   29938.0\n",
      "99988      656     3845     5.0   986242691    49189    8420.0\n",
      "99989      656     3909     5.0   986244044   206420   14629.0\n",
      "99990      659      167     4.0   836137550   113044  259209.0\n",
      "99991      659      563     3.0   834694187   107002   51980.0\n",
      "99992      663   127124     4.0  1438413063  3236120  310121.0\n",
      "99993      663   134246     3.0  1438412792  3247714  334074.0\n",
      "99994      663   134528     3.5  1438412783  1243974  222936.0\n",
      "99995      663   134783     3.0  1438412778  1674771  188222.0\n",
      "99996      663   137595     3.0  1438412878  2268016  264999.0\n",
      "99997      663   138204     3.5  1438412914  3895884  287689.0\n",
      "99998      664    60832     3.0  1393891653   964539   12192.0\n",
      "99999      664    64997     2.5  1343761859   449040   34812.0\n",
      "100000     664    72380     3.5  1344435977   362478   22825.0\n",
      "100001     665      129     3.0   995232528   114131  110972.0\n",
      "100002     665     4736     1.0  1010197684   234829   26602.0\n",
      "100003     668     6425     1.0   993613478   120142   36807.0\n",
      "\n",
      "[100004 rows x 6 columns]\n"
     ]
    }
   ],
   "source": [
    "print(df)"
   ]
  },
  {
   "cell_type": "code",
   "execution_count": 5,
   "metadata": {},
   "outputs": [
    {
     "name": "stdout",
     "output_type": "stream",
     "text": [
      "Sparsity: 1.40%\n"
     ]
    }
   ],
   "source": [
    "sparsity = float(len(rating_matrix.nonzero()[0]))\n",
    "sparsity /= (rating_matrix.shape[0] * rating_matrix.shape[1])\n",
    "sparsity *= 100\n",
    "print ('Sparsity: {:4.2f}%'.format(sparsity))"
   ]
  },
  {
   "cell_type": "markdown",
   "metadata": {},
   "source": [
    "## Step 2: Create training and test datasets"
   ]
  },
  {
   "cell_type": "code",
   "execution_count": 6,
   "metadata": {},
   "outputs": [],
   "source": [
    "train_matrix = rating_matrix.copy()\n",
    "test_matrix = np.zeros(rating_matrix.shape)\n",
    "\n",
    "for i in range(rating_matrix.shape[0]):\n",
    "    rating_idx = np.random.choice(\n",
    "        rating_matrix[i, :].nonzero()[0], \n",
    "        size=10, \n",
    "        replace=True)\n",
    "    train_matrix[i, rating_idx] = 0.0\n",
    "    test_matrix[i, rating_idx] = rating_matrix[i, rating_idx]"
   ]
  },
  {
   "cell_type": "markdown",
   "metadata": {},
   "source": [
    "## Step3: Use Cosine Similarity to cluster movies with similar user ratings"
   ]
  },
  {
   "cell_type": "code",
   "execution_count": 7,
   "metadata": {},
   "outputs": [],
   "source": [
    "similarity_user = train_matrix.dot(train_matrix.T) + 1e-9\n",
    "norms = np.array([np.sqrt(np.diagonal(similarity_user))])\n",
    "similarity_user = ( similarity_user / (norms * norms.T) )\n",
    "\n",
    "similarity_movie = train_matrix.T.dot(train_matrix) + 1e-9\n",
    "norms = np.array([np.sqrt(np.diagonal(similarity_movie))])\n",
    "similarity_movie = ( similarity_movie / (norms * norms.T) )"
   ]
  },
  {
   "cell_type": "code",
   "execution_count": 8,
   "metadata": {},
   "outputs": [
    {
     "name": "stdout",
     "output_type": "stream",
     "text": [
      "[[1.00000000e+00 3.91963000e-01 2.64434732e-01 ... 1.22191928e-01\n",
      "  6.74271699e-02 6.74271699e-02]\n",
      " [3.91963000e-01 1.00000000e+00 2.06926651e-01 ... 4.30014695e-02\n",
      "  7.20338466e-12 8.23243961e-12]\n",
      " [2.64434732e-01 2.06926651e-01 1.00000000e+00 ... 5.70248563e-12\n",
      "  1.00301357e-11 1.14630122e-11]\n",
      " ...\n",
      " [1.22191928e-01 4.30014695e-02 5.70248563e-12 ... 1.00000000e+00\n",
      "  5.68535244e-01 5.68535244e-01]\n",
      " [6.74271699e-02 7.20338466e-12 1.00301357e-11 ... 5.68535244e-01\n",
      "  1.00000000e+00 1.00000000e+00]\n",
      " [6.74271699e-02 8.23243961e-12 1.14630122e-11 ... 5.68535244e-01\n",
      "  1.00000000e+00 1.00000000e+00]]\n"
     ]
    }
   ],
   "source": [
    "print(similarity_movie)"
   ]
  },
  {
   "cell_type": "markdown",
   "metadata": {},
   "source": [
    "## Step 4: Use the model to find similar movies"
   ]
  },
  {
   "cell_type": "code",
   "execution_count": 9,
   "metadata": {},
   "outputs": [
    {
     "name": "stdout",
     "output_type": "stream",
     "text": [
      "MSE = 9.800587917753155\n"
     ]
    }
   ],
   "source": [
    "from sklearn.metrics import mean_squared_error\n",
    "\n",
    "prediction = similarity_user.dot(train_matrix) / np.array([np.abs(similarity_user).sum(axis=1)]).T\n",
    "prediction = prediction[test_matrix.nonzero()].flatten()\n",
    "test_vector = test_matrix[test_matrix.nonzero()].flatten()\n",
    "mse = mean_squared_error(prediction, test_vector)\n",
    "\n",
    "print (\"MSE = \" + str(mse))"
   ]
  },
  {
   "cell_type": "markdown",
   "metadata": {},
   "source": [
    "## Step 5: Import the Get_poster function in order to get the movie poster online"
   ]
  },
  {
   "cell_type": "code",
   "execution_count": 10,
   "metadata": {},
   "outputs": [],
   "source": [
    "import requests\n",
    "import json\n",
    "# Get base url filepath structure. w185 corresponds to size of movie poster.\n",
    "headers = {'Accept': 'application/json'}\n",
    "payload = {'api_key': '121243b2af1966b0d85754dc2b3bcc25'} \n",
    "response = requests.get(\"http://api.themoviedb.org/3/configuration\", params=payload, headers=headers)\n",
    "response = json.loads(response.text)\n",
    "base_url = response['images']['base_url'] + 'w185'\n",
    "\n",
    "def get_poster(imdbid, base_url):\n",
    "    # Get IMDB movie ID\n",
    "    movie_id = \"tt0\" + str(imdbid) \n",
    "    \n",
    "    # Query themoviedb.org API for movie poster path.\n",
    "    movie_url = 'http://api.themoviedb.org/3/movie/{:}/images'.format(movie_id)\n",
    "    headers = {'Accept': 'application/json'}\n",
    "    payload = {'api_key': '121243b2af1966b0d85754dc2b3bcc25'} \n",
    "    response = requests.get(movie_url, params=payload, headers=headers)\n",
    "    try:\n",
    "        file_path = json.loads(response.text)['posters'][0]['file_path']\n",
    "    except:\n",
    "        file_path = \"\"\n",
    "        \n",
    "    return (base_url + file_path, imdbid)"
   ]
  },
  {
   "cell_type": "markdown",
   "metadata": {},
   "source": [
    "## Step 6: Make Recommendations"
   ]
  },
  {
   "cell_type": "code",
   "execution_count": 12,
   "metadata": {},
   "outputs": [
    {
     "data": {
      "text/html": [
       "<img style='width: 100px; margin: 0px;                 float: left; border: 1px solid black;' src='http://image.tmdb.org/t/p/w185/uMZqKhT4YA6mqo2yczoznv7IDmv.jpg' /><img style='width: 100px; margin: 0px;                 float: left; border: 1px solid black;' src='http://image.tmdb.org/t/p/w185/kuTPkbQmHxBHsxaKMUL1kUchhdE.jpg' /><img style='width: 100px; margin: 0px;                 float: left; border: 1px solid black;' src='http://image.tmdb.org/t/p/w185/vXjVd0Vu0MXRZnga7wEnHIIhO5B.jpg' /><img style='width: 100px; margin: 0px;                 float: left; border: 1px solid black;' src='http://image.tmdb.org/t/p/w185/bKPtXn9n4M4s8vvZrbw40mYsefB.jpg' /><img style='width: 100px; margin: 0px;                 float: left; border: 1px solid black;' src='0' /><img style='width: 100px; margin: 0px;                 float: left; border: 1px solid black;' src='0' />"
      ],
      "text/plain": [
       "<IPython.core.display.HTML object>"
      ]
     },
     "metadata": {},
     "output_type": "display_data"
    }
   ],
   "source": [
    "import requests\n",
    "import json\n",
    "\n",
    "from IPython.display import Image\n",
    "from IPython.display import display\n",
    "from IPython.display import HTML\n",
    "\n",
    "idx_to_movie = {}\n",
    "for row in df_id.itertuples():\n",
    "    idx_to_movie[row[1]-1] = row[2]\n",
    "idx_to_movie    \n",
    "\n",
    "k = 6  \n",
    "idx = 0  #what movie to use as the base\n",
    "movies = [ idx_to_movie[x] for x in np.argsort(similarity_movie[idx,:])[:-k-1:-1] ] \n",
    "\n",
    "movies = filter(lambda imdb: len(str(imdb)) == 6, movies)\n",
    "\n",
    "n_display = 6\n",
    "URL = [0]*n_display\n",
    "IMDB = [0]*n_display\n",
    "i = 0\n",
    "for movie in movies:\n",
    "    (URL[i], IMDB[i]) = get_poster(movie, base_url)\n",
    "    i += 1 \n",
    "    \n",
    "images = ''\n",
    "for i in range(n_display):\n",
    "    images += \"<img style='width: 100px; margin: 0px; \\\n",
    "                float: left; border: 1px solid black;' src='%s' />\" \\\n",
    "                % URL[i]\n",
    "\n",
    "display(HTML(images))"
   ]
  },
  {
   "cell_type": "markdown",
   "metadata": {},
   "source": [
    "## Step 7: Make another set of recommendations from another movie"
   ]
  },
  {
   "cell_type": "code",
   "execution_count": 13,
   "metadata": {},
   "outputs": [
    {
     "data": {
      "text/html": [
       "<img style='width: 100px; margin: 0px;                 float: left; border: 1px solid black;' src='http://image.tmdb.org/t/p/w185/vWtDUUgQAsVyvRW4mE75LBgVm2e.jpg' /><img style='width: 100px; margin: 0px;                 float: left; border: 1px solid black;' src='http://image.tmdb.org/t/p/w185/md9kMKnLG8LG4pMDM98gy5x4K5L.jpg' /><img style='width: 100px; margin: 0px;                 float: left; border: 1px solid black;' src='http://image.tmdb.org/t/p/w185/mTAHr5h5i64hTLqo0cW2X2083Cx.jpg' /><img style='width: 100px; margin: 0px;                 float: left; border: 1px solid black;' src='http://image.tmdb.org/t/p/w185/pyEkyYgtyjOX1R9EYyUcgbK1sTn.jpg' /><img style='width: 100px; margin: 0px;                 float: left; border: 1px solid black;' src='0' /><img style='width: 100px; margin: 0px;                 float: left; border: 1px solid black;' src='0' />"
      ],
      "text/plain": [
       "<IPython.core.display.HTML object>"
      ]
     },
     "metadata": {},
     "output_type": "display_data"
    }
   ],
   "source": [
    "import requests\n",
    "import json\n",
    "\n",
    "from IPython.display import Image\n",
    "from IPython.display import display\n",
    "from IPython.display import HTML\n",
    "\n",
    "idx_to_movie = {}\n",
    "for row in df_id.itertuples():\n",
    "    idx_to_movie[row[1]-1] = row[2]\n",
    "idx_to_movie    \n",
    "\n",
    "k = 6  \n",
    "idx = 20  #what movie to use as the base\n",
    "movies = [ idx_to_movie[x] for x in np.argsort(similarity_movie[idx,:])[:-k-1:-1] ] \n",
    "\n",
    "movies = filter(lambda imdb: len(str(imdb)) == 6, movies)\n",
    "\n",
    "n_display = 6\n",
    "URL = [0]*n_display\n",
    "IMDB = [0]*n_display\n",
    "i = 0\n",
    "for movie in movies:\n",
    "    (URL[i], IMDB[i]) = get_poster(movie, base_url)\n",
    "    i += 1 \n",
    "    \n",
    "images = ''\n",
    "for i in range(n_display):\n",
    "    images += \"<img style='width: 100px; margin: 0px; \\\n",
    "                float: left; border: 1px solid black;' src='%s' />\" \\\n",
    "                % URL[i]\n",
    "\n",
    "display(HTML(images))"
   ]
  },
  {
   "cell_type": "markdown",
   "metadata": {},
   "source": [
    "## End of Model 1"
   ]
  },
  {
   "cell_type": "code",
   "execution_count": null,
   "metadata": {},
   "outputs": [],
   "source": []
  }
 ],
 "metadata": {
  "kernelspec": {
   "display_name": "Python 3",
   "language": "python",
   "name": "python3"
  },
  "language_info": {
   "codemirror_mode": {
    "name": "ipython",
    "version": 3
   },
   "file_extension": ".py",
   "mimetype": "text/x-python",
   "name": "python",
   "nbconvert_exporter": "python",
   "pygments_lexer": "ipython3",
   "version": "3.6.5"
  }
 },
 "nbformat": 4,
 "nbformat_minor": 2
}
